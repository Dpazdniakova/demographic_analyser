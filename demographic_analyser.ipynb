{
 "cells": [
  {
   "cell_type": "code",
   "execution_count": 2,
   "metadata": {},
   "outputs": [
    {
     "name": "stdout",
     "output_type": "stream",
     "text": [
      "Number of each race:\n",
      " race\n",
      "White                 27816\n",
      "Black                  3124\n",
      "Asian-Pac-Islander     1039\n",
      "Amer-Indian-Eskimo      311\n",
      "Other                   271\n",
      "Name: count, dtype: int64\n",
      "Average age of men: 39.4\n",
      "Percentage with Bachelors degrees: 16.4%\n",
      "Percentage with higher education that earn >50K: 46.5%\n",
      "Percentage without higher education that earn >50K: 17.4%\n",
      "Min work time: 1 hours/week\n",
      "Percentage of rich among those who work fewest hours: 10.0%\n",
      "Country with highest percentage of rich: Iran\n",
      "Percentage of rich people in Iran: 41.9%\n",
      "Top occupations in India: Prof-specialty\n"
     ]
    }
   ],
   "source": [
    "import pandas as pd\n",
    "\n",
    "def calculate_demographic_data(print_data=True):\n",
    "\n",
    "    df = pd.read_csv('adult.data.csv')\n",
    "\n",
    "    race_count = df['race'].value_counts()\n",
    "\n",
    "    average_age_men = round(df[df['sex'] == 'Male']['age'].mean(), 1)\n",
    "     \n",
    "    bachelors=df['education'].value_counts().get('Bachelors')\n",
    "    \n",
    "    percentage_bachelors = round((bachelors / len(df)) * 100, 1)\n",
    "    \n",
    "    higher_education = df[df['education'].isin(['Bachelors', 'Masters', 'Doctorate'])]\n",
    "    \n",
    "    lower_education = df[~df['education'].isin(['Bachelors', 'Masters', 'Doctorate'])]\n",
    "    \n",
    "    l_edu_salary = lower_education[lower_education['salary'] == \">50K\"]\n",
    "    \n",
    "    h_edu_salary = higher_education[higher_education['salary'] == \">50K\"]\n",
    "    \n",
    "    higher_education_rich = round((len(h_edu_salary) / len(higher_education)) * 100, 1)\n",
    "    \n",
    "    lower_education_rich = round((len(l_edu_salary) / len(lower_education)) * 100, 1)\n",
    "    \n",
    "    min_work_hours = df['hours-per-week'].min()\n",
    "    \n",
    "    num_min_workers = len(df[df['hours-per-week'] == 1])\n",
    "    \n",
    "    h_salary = len(df[(df['salary'] == '>50K') & (df['hours-per-week'] == 1)])\n",
    "    \n",
    "    rich_percentage = round((h_salary / num_min_workers) * 100, 1)\n",
    "    \n",
    "    high_salary_df = df[df['salary'] == '>50K']\n",
    "\n",
    "    \n",
    "    \n",
    "    grouped_by_country = high_salary_df.groupby('native-country')\n",
    "    \n",
    "    percentage_by_country = (grouped_by_country.size() / df.groupby('native-country').size()) * 100\n",
    "    \n",
    "    highest_earning_country = percentage_by_country.idxmax()\n",
    "    \n",
    "    highest_earning_country_percentage = round(percentage_by_country.max(), 1)\n",
    "    \n",
    "    high_salary_india = df[(df['salary'] == '>50K') & (df['native-country'] == 'India')]\n",
    "    \n",
    "    top_IN_occupation = high_salary_india.groupby('occupation').size().idxmax()\n",
    "\n",
    "    print(\"Number of each race:\\n\", race_count)\n",
    "    print(\"Average age of men:\", average_age_men)\n",
    "    print(f\"Percentage with Bachelors degrees: {percentage_bachelors}%\")\n",
    "    print(f\"Percentage with higher education that earn >50K: {higher_education_rich}%\")\n",
    "    print(f\"Percentage without higher education that earn >50K: {lower_education_rich}%\")\n",
    "    print(f\"Min work time: {min_work_hours} hours/week\")\n",
    "    print(f\"Percentage of rich among those who work fewest hours: {rich_percentage}%\")\n",
    "    print(f\"Country with highest percentage of rich:\", highest_earning_country)\n",
    "    print(f\"Percentage of rich people in Iran: {highest_earning_country_percentage}%\")\n",
    "    print(\"Top occupations in India:\", top_IN_occupation)\n",
    "\n",
    "calculate_demographic_data()"
   ]
  }
 ],
 "metadata": {
  "kernelspec": {
   "display_name": "Python 3",
   "language": "python",
   "name": "python3"
  },
  "language_info": {
   "codemirror_mode": {
    "name": "ipython",
    "version": 3
   },
   "file_extension": ".py",
   "mimetype": "text/x-python",
   "name": "python",
   "nbconvert_exporter": "python",
   "pygments_lexer": "ipython3",
   "version": "3.12.8"
  }
 },
 "nbformat": 4,
 "nbformat_minor": 2
}
